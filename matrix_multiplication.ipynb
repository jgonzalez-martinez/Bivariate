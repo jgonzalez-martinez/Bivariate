{
 "cells": [
  {
   "cell_type": "markdown",
   "id": "f6e71fd1",
   "metadata": {},
   "source": [
    "#### We will perform the matrix multiplication in the exponential contained in the normal pdf\n",
    "\\begin{equation}\n",
    "p(\\textbf{x};\\mu,\\Sigma)= \\frac{1}{(2\\pi)^{n/2}|\\Gamma^{-1}|^{1/2}} \\mathrm{exp} \\Big[-\\frac{1}{2}(\\textbf{x}-\\mu)^{T}\\Gamma(\\textbf{x}-\\mu)\\Big].\n",
    "\\end{equation}\n",
    "\n",
    "#### where \n",
    "\\begin{equation}\n",
    "\\textbf{x}=(m_1,m_2)\n",
    "\\end{equation}\n",
    "\n",
    "#### and \n",
    "\\begin{equation}\n",
    "\\mu=\\big(E[m_1], E[m_2]\\big)\n",
    "\\end{equation}\n"
   ]
  },
  {
   "cell_type": "code",
   "execution_count": 1,
   "id": "fa86e865",
   "metadata": {},
   "outputs": [
    {
     "name": "stdout",
     "output_type": "stream",
     "text": [
      "/home/josecarlos/Desktop/Jose/Fisher/GWFish/LISA/V4m1m2\n"
     ]
    }
   ],
   "source": [
    "cd V4m1m2"
   ]
  },
  {
   "cell_type": "code",
   "execution_count": 3,
   "id": "1f95fcb0",
   "metadata": {},
   "outputs": [],
   "source": [
    "import numpy as np"
   ]
  },
  {
   "cell_type": "markdown",
   "id": "3842204a",
   "metadata": {},
   "source": [
    "#### We load the files which contains the Fisher matrices and the true values of $m_1$ and $m_2$."
   ]
  },
  {
   "cell_type": "code",
   "execution_count": 4,
   "id": "382ecc76",
   "metadata": {},
   "outputs": [],
   "source": [
    "path = '/home/josecarlos/Desktop/Jose/Fisher/GWFish/LISA/V4m1m2/'\n",
    "\n",
    "fisherfile = 'Fishers_LISA_150914_randompopulationV4m1m2_SNR0.0.npy'\n",
    "invfisherfile = 'Inv_Fishers_LISA_150914_randompopulationV4m1m2_SNR0.0.npy'\n",
    "\n",
    "fisher = np.load(path+fisherfile)\n",
    "invfisher = np.load(path+invfisherfile)"
   ]
  },
  {
   "cell_type": "code",
   "execution_count": 5,
   "id": "a9a9c487",
   "metadata": {},
   "outputs": [
    {
     "name": "stdout",
     "output_type": "stream",
     "text": [
      "[[4.94229032e+04 3.78100000e+05 4.93500000e+05 ... 1.18700000e+09\n",
      "  8.92600000e+00 1.09300000e+01]\n",
      " [2.23521114e+04 1.37100000e+05 1.93400000e+05 ... 1.18700000e+09\n",
      "  2.03100000e+00 2.91200000e+00]\n",
      " [5.36074593e+04 4.78700000e+05 4.64400000e+05 ... 1.18700000e+09\n",
      "  1.26500000e+01 1.24100000e+01]\n",
      " ...\n",
      " [3.66799201e+04 3.72900000e+05 2.52200000e+05 ... 1.18700000e+09\n",
      "  5.77800000e+00 4.07600000e+00]\n",
      " [3.52851759e+04 2.68800000e+05 3.05300000e+05 ... 1.18700000e+09\n",
      "  8.64800000e+00 9.71000000e+00]\n",
      " [4.55020273e+04 4.93400000e+05 3.22100000e+05 ... 1.18700000e+09\n",
      "  3.70700000e+00 2.67000000e+00]]\n"
     ]
    }
   ],
   "source": [
    "data = np.loadtxt(fname='Errors_LISA_150914_randompopulationV4m1m2a_SNR0.0.txt', delimiter=' ')\n",
    "print(data)"
   ]
  },
  {
   "cell_type": "markdown",
   "id": "3df39b60",
   "metadata": {},
   "source": [
    "#### We arrange the true values $E[m_1]$ and $E[m_2]$ for only one event  in $\\mu$, which is a 2x1 matrix. Later on we will consider the whole population of 300 events."
   ]
  },
  {
   "cell_type": "code",
   "execution_count": 21,
   "id": "f62b383f",
   "metadata": {},
   "outputs": [
    {
     "name": "stdout",
     "output_type": "stream",
     "text": [
      "378100.0\n",
      "493500.0\n"
     ]
    }
   ],
   "source": [
    "truevaluem1 = data[0, 1]\n",
    "truevaluem2 = data[0, 2]\n",
    "print(truevaluem1)\n",
    "print(truevaluem2)"
   ]
  },
  {
   "cell_type": "code",
   "execution_count": 23,
   "id": "52d211a9",
   "metadata": {},
   "outputs": [
    {
     "name": "stdout",
     "output_type": "stream",
     "text": [
      "[[378100.]\n",
      " [493500.]]\n"
     ]
    }
   ],
   "source": [
    "mu =np.array([[truevaluem1], [truevaluem2]])\n",
    "print(mu)"
   ]
  },
  {
   "cell_type": "markdown",
   "id": "bbbde248",
   "metadata": {},
   "source": [
    "#### Here we generate the uniform grid $(m_1,m_2)$ in which we will evaluate our pdf. The mass range is $1\\times10⁵$ - $5\\times10⁵$ in a grid of 9 points as a test."
   ]
  },
  {
   "cell_type": "code",
   "execution_count": 9,
   "id": "4de1d1fd",
   "metadata": {},
   "outputs": [],
   "source": [
    "m1axis = np.linspace(100000, 500000, 3)\n",
    "m2axis = np.linspace(100000, 500000, 3)\n",
    "\n",
    "# full coordinate arrays\n",
    "m1grid, m2grid = np.meshgrid(m1axis, m2axis)"
   ]
  },
  {
   "cell_type": "code",
   "execution_count": 10,
   "id": "a9459e76",
   "metadata": {},
   "outputs": [
    {
     "name": "stdout",
     "output_type": "stream",
     "text": [
      "[[100000. 300000. 500000.]\n",
      " [100000. 300000. 500000.]\n",
      " [100000. 300000. 500000.]]\n"
     ]
    }
   ],
   "source": [
    "print(m1grid)"
   ]
  },
  {
   "cell_type": "code",
   "execution_count": 11,
   "id": "8dca7fb7",
   "metadata": {},
   "outputs": [
    {
     "name": "stdout",
     "output_type": "stream",
     "text": [
      "[[100000. 100000. 100000.]\n",
      " [300000. 300000. 300000.]\n",
      " [500000. 500000. 500000.]]\n"
     ]
    }
   ],
   "source": [
    "print(m2grid)"
   ]
  },
  {
   "cell_type": "markdown",
   "id": "7e4d0953",
   "metadata": {},
   "source": [
    "#### We perform the subtractions $m_1 - E(m_1)$ and $m_2 - E(m_2)$ and store them in the 2x1 matrix $(\\textbf{x}-\\mu)$ and compute $(\\textbf{x}-\\mu)^{T}$"
   ]
  },
  {
   "cell_type": "code",
   "execution_count": 12,
   "id": "6c5e267e",
   "metadata": {},
   "outputs": [],
   "source": [
    "x_mu1 =np.subtract(m1grid, mu[0])\n",
    "x_mu2 =np.subtract(m2grid, mu[1])"
   ]
  },
  {
   "cell_type": "code",
   "execution_count": 13,
   "id": "f27281c7",
   "metadata": {},
   "outputs": [
    {
     "name": "stdout",
     "output_type": "stream",
     "text": [
      "[[-278100.  -78100.  121900.]\n",
      " [-278100.  -78100.  121900.]\n",
      " [-278100.  -78100.  121900.]]\n"
     ]
    }
   ],
   "source": [
    "print(x_mu1)"
   ]
  },
  {
   "cell_type": "code",
   "execution_count": 14,
   "id": "0267c9f9",
   "metadata": {},
   "outputs": [
    {
     "name": "stdout",
     "output_type": "stream",
     "text": [
      "[[-393500. -393500. -393500.]\n",
      " [-193500. -193500. -193500.]\n",
      " [   6500.    6500.    6500.]]\n"
     ]
    }
   ],
   "source": [
    "print(x_mu2)"
   ]
  },
  {
   "cell_type": "code",
   "execution_count": 15,
   "id": "c42cef63",
   "metadata": {},
   "outputs": [],
   "source": [
    "x_mu = np.array([x_mu1,x_mu2])\n",
    "x_muT = np.transpose(x_mu)"
   ]
  },
  {
   "cell_type": "code",
   "execution_count": 16,
   "id": "6b82d7e6",
   "metadata": {},
   "outputs": [
    {
     "name": "stdout",
     "output_type": "stream",
     "text": [
      "[[[-278100.  -78100.  121900.]\n",
      "  [-278100.  -78100.  121900.]\n",
      "  [-278100.  -78100.  121900.]]\n",
      "\n",
      " [[-393500. -393500. -393500.]\n",
      "  [-193500. -193500. -193500.]\n",
      "  [   6500.    6500.    6500.]]]\n"
     ]
    }
   ],
   "source": [
    "print(x_mu)"
   ]
  },
  {
   "cell_type": "code",
   "execution_count": 18,
   "id": "d83b603a",
   "metadata": {},
   "outputs": [
    {
     "name": "stdout",
     "output_type": "stream",
     "text": [
      "[[[-278100. -393500.]\n",
      "  [-278100. -193500.]\n",
      "  [-278100.    6500.]]\n",
      "\n",
      " [[ -78100. -393500.]\n",
      "  [ -78100. -193500.]\n",
      "  [ -78100.    6500.]]\n",
      "\n",
      " [[ 121900. -393500.]\n",
      "  [ 121900. -193500.]\n",
      "  [ 121900.    6500.]]]\n"
     ]
    }
   ],
   "source": [
    "print(x_muT)"
   ]
  },
  {
   "cell_type": "markdown",
   "id": "39c0c94c",
   "metadata": {},
   "source": [
    "#### We perform the matrix multiplication $(\\textbf{x}-\\mu)^{T}\\Gamma$ "
   ]
  },
  {
   "cell_type": "code",
   "execution_count": 19,
   "id": "2a953b43",
   "metadata": {},
   "outputs": [
    {
     "name": "stdout",
     "output_type": "stream",
     "text": [
      "(3, 3, 2)\n",
      "[[[-61702954.00327376 -50395389.2977656 ]\n",
      "  [-44890652.39267815 -36663300.9073044 ]\n",
      "  [-28078350.78208254 -22931212.5168432 ]]\n",
      "\n",
      " [[-41117013.27373265 -33583087.68717   ]\n",
      "  [-24304711.66313705 -19850999.29670879]\n",
      "  [ -7492410.05254144  -6118910.90624759]]\n",
      "\n",
      " [[-20531072.54419155 -16770786.07657439]\n",
      "  [ -3718770.93359595  -3038697.68611319]\n",
      "  [ 13093530.67699966  10693390.70434801]]]\n"
     ]
    }
   ],
   "source": [
    "exp1 = np.matmul(x_muT, fisher[0])\n",
    "print(exp1.shape)\n",
    "print(exp1)"
   ]
  },
  {
   "cell_type": "markdown",
   "id": "b507e640",
   "metadata": {},
   "source": [
    "#### and the result from above by $(\\textbf{x} - \\mu)$"
   ]
  },
  {
   "cell_type": "code",
   "execution_count": 24,
   "id": "9be031ca",
   "metadata": {},
   "outputs": [
    {
     "ename": "ValueError",
     "evalue": "matmul: Input operand 1 has a mismatch in its core dimension 0, with gufunc signature (n?,k),(k,m?)->(n?,m?) (size 3 is different from 2)",
     "output_type": "error",
     "traceback": [
      "\u001b[0;31m---------------------------------------------------------------------------\u001b[0m",
      "\u001b[0;31mValueError\u001b[0m                                Traceback (most recent call last)",
      "Cell \u001b[0;32mIn[24], line 1\u001b[0m\n\u001b[0;32m----> 1\u001b[0m exp \u001b[38;5;241m=\u001b[39m np\u001b[38;5;241m.\u001b[39mmatmul(exp1, x_mu)\n\u001b[1;32m      2\u001b[0m \u001b[38;5;28mprint\u001b[39m(exp\u001b[38;5;241m.\u001b[39mshape)\n\u001b[1;32m      3\u001b[0m \u001b[38;5;28mprint\u001b[39m(exp)\n",
      "\u001b[0;31mValueError\u001b[0m: matmul: Input operand 1 has a mismatch in its core dimension 0, with gufunc signature (n?,k),(k,m?)->(n?,m?) (size 3 is different from 2)"
     ]
    }
   ],
   "source": [
    "exp = np.matmul(exp1, x_mu)\n",
    "print(exp.shape)\n",
    "print(exp)"
   ]
  },
  {
   "cell_type": "code",
   "execution_count": null,
   "id": "5fad04a4",
   "metadata": {},
   "outputs": [],
   "source": []
  }
 ],
 "metadata": {
  "kernelspec": {
   "display_name": "GWFishtutorial",
   "language": "python",
   "name": "gwfishtutorial"
  },
  "language_info": {
   "codemirror_mode": {
    "name": "ipython",
    "version": 3
   },
   "file_extension": ".py",
   "mimetype": "text/x-python",
   "name": "python",
   "nbconvert_exporter": "python",
   "pygments_lexer": "ipython3",
   "version": "3.11.3"
  }
 },
 "nbformat": 4,
 "nbformat_minor": 5
}
